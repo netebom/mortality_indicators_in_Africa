{
 "cells": [
  {
   "cell_type": "code",
   "execution_count": 1,
   "id": "1225804d-a603-4784-b8eb-d8c170ea9793",
   "metadata": {},
   "outputs": [
    {
     "name": "stdout",
     "output_type": "stream",
     "text": [
      "Dependencies: Imported successfully\n"
     ]
    }
   ],
   "source": [
    "# Import needed libraries\n",
    "import pandas as pd\n",
    "import numpy as np\n",
    "import matplotlib.pyplot as plt\n",
    "import seaborn as sns\n",
    "import plotly.express as px\n",
    "\n",
    "print('Dependencies: Imported successfully')"
   ]
  },
  {
   "cell_type": "code",
   "execution_count": 2,
   "id": "8735ca4e-ea76-4f22-95ca-d37c22148f51",
   "metadata": {},
   "outputs": [
    {
     "data": {
      "text/plain": [
       "0"
      ]
     },
     "execution_count": 2,
     "metadata": {},
     "output_type": "execute_result"
    }
   ],
   "source": [
    "dt2 = r\"C:\\Users\\Etebom\\Desktop\\RGN_project\\datasets\\child-mortality-by-income-level-of-country.csv\"\n",
    "dn2 = pd.read_csv(dt2)\n",
    "dn2.head()\n",
    "dn2.duplicated().sum()"
   ]
  },
  {
   "cell_type": "code",
   "execution_count": 4,
   "id": "845edc67-3364-4a63-84d4-9c38c8411c97",
   "metadata": {},
   "outputs": [],
   "source": [
    "dt3 = r\"C:\\Users\\Etebom\\Desktop\\RGN_project\\datasets\\Distribution of Causes of Death among Children Aged less than 5 years.csv\"\n",
    "dn3 = pd.read_csv(dt3)\n",
    "dt = dn3[['Location', 'SpatialDimValueCode', 'Period', 'Dim2']].copy()\n",
    "dt.rename(columns={\n",
    "    'Location':'Entity',\n",
    "    'SpatialDimValueCode': 'Code',\n",
    "    'Period':'Year',\n",
    "    'Dim2':'Cause of Death'\n",
    "} ,\n",
    "    inplace=True)\n"
   ]
  },
  {
   "cell_type": "code",
   "execution_count": 7,
   "id": "90c03bb4-5b09-4de3-82e2-e9d9e3df4a85",
   "metadata": {},
   "outputs": [
    {
     "data": {
      "text/plain": [
       "(63088, 5)"
      ]
     },
     "execution_count": 7,
     "metadata": {},
     "output_type": "execute_result"
    }
   ],
   "source": [
    "dj = pd.concat([dn2, dt], ignore_index=True)\n",
    "dj.duplicated().sum()\n",
    "dj.shape\n",
    "dj = dj.drop_duplicates()\n",
    "dj.shape"
   ]
  },
  {
   "cell_type": "code",
   "execution_count": 8,
   "id": "dc1c3b67-165e-47c0-a995-a5bb7bace3ca",
   "metadata": {},
   "outputs": [
    {
     "data": {
      "text/html": [
       "<div>\n",
       "<style scoped>\n",
       "    .dataframe tbody tr th:only-of-type {\n",
       "        vertical-align: middle;\n",
       "    }\n",
       "\n",
       "    .dataframe tbody tr th {\n",
       "        vertical-align: top;\n",
       "    }\n",
       "\n",
       "    .dataframe thead th {\n",
       "        text-align: right;\n",
       "    }\n",
       "</style>\n",
       "<table border=\"1\" class=\"dataframe\">\n",
       "  <thead>\n",
       "    <tr style=\"text-align: right;\">\n",
       "      <th></th>\n",
       "      <th>Entity</th>\n",
       "      <th>Code</th>\n",
       "      <th>Year</th>\n",
       "      <th>Observation value - Indicator: Under-five mortality rate - Sex: Total - Wealth quintile: Total - Unit of measure: Deaths per 100 live births</th>\n",
       "      <th>Cause of Death</th>\n",
       "    </tr>\n",
       "  </thead>\n",
       "  <tbody>\n",
       "    <tr>\n",
       "      <th>0</th>\n",
       "      <td>Afghanistan</td>\n",
       "      <td>AFG</td>\n",
       "      <td>1957</td>\n",
       "      <td>37.245758</td>\n",
       "      <td>NaN</td>\n",
       "    </tr>\n",
       "    <tr>\n",
       "      <th>1</th>\n",
       "      <td>Afghanistan</td>\n",
       "      <td>AFG</td>\n",
       "      <td>1958</td>\n",
       "      <td>36.626625</td>\n",
       "      <td>NaN</td>\n",
       "    </tr>\n",
       "    <tr>\n",
       "      <th>2</th>\n",
       "      <td>Afghanistan</td>\n",
       "      <td>AFG</td>\n",
       "      <td>1959</td>\n",
       "      <td>36.043480</td>\n",
       "      <td>NaN</td>\n",
       "    </tr>\n",
       "    <tr>\n",
       "      <th>3</th>\n",
       "      <td>Afghanistan</td>\n",
       "      <td>AFG</td>\n",
       "      <td>1960</td>\n",
       "      <td>35.459850</td>\n",
       "      <td>NaN</td>\n",
       "    </tr>\n",
       "    <tr>\n",
       "      <th>4</th>\n",
       "      <td>Afghanistan</td>\n",
       "      <td>AFG</td>\n",
       "      <td>1961</td>\n",
       "      <td>34.894880</td>\n",
       "      <td>NaN</td>\n",
       "    </tr>\n",
       "  </tbody>\n",
       "</table>\n",
       "</div>"
      ],
      "text/plain": [
       "        Entity Code  Year  \\\n",
       "0  Afghanistan  AFG  1957   \n",
       "1  Afghanistan  AFG  1958   \n",
       "2  Afghanistan  AFG  1959   \n",
       "3  Afghanistan  AFG  1960   \n",
       "4  Afghanistan  AFG  1961   \n",
       "\n",
       "   Observation value - Indicator: Under-five mortality rate - Sex: Total - Wealth quintile: Total - Unit of measure: Deaths per 100 live births  \\\n",
       "0                                          37.245758                                                                                              \n",
       "1                                          36.626625                                                                                              \n",
       "2                                          36.043480                                                                                              \n",
       "3                                          35.459850                                                                                              \n",
       "4                                          34.894880                                                                                              \n",
       "\n",
       "  Cause of Death  \n",
       "0            NaN  \n",
       "1            NaN  \n",
       "2            NaN  \n",
       "3            NaN  \n",
       "4            NaN  "
      ]
     },
     "execution_count": 8,
     "metadata": {},
     "output_type": "execute_result"
    }
   ],
   "source": [
    "dj.head()"
   ]
  },
  {
   "cell_type": "code",
   "execution_count": 9,
   "id": "0c8be878-8a4a-4365-9a34-afcfce5aaeec",
   "metadata": {},
   "outputs": [],
   "source": [
    "# Create a list of African countries\n",
    "afr_entities = ['Algeria', 'Angola', 'Benin', 'Botswana', 'British Indian Ocean Territory',\n",
    "                 'Burkina Faso', 'Burundi', 'Cameroon', 'Cape Verde', 'Central African Republic',\n",
    "                 'Chad', 'Comoros', 'Congo', 'Djibouti', 'Egypt',\n",
    "                 'Equatorial Guinea', 'Eritrea', 'Eswatini', 'Ethiopia', 'Gabon',\n",
    "                 'Gambia', 'Ghana', 'Guinea', 'Guinea-Bissau', 'Ivory Coast',\n",
    "                 'Kenya', 'Lesotho', 'Liberia', 'Libya', 'Madagascar',\n",
    "                 'Malawi', 'Mali', 'Mauritania', 'Mauritius', 'Mayotte',\n",
    "                 'Morocco', 'Mozambique', 'Namibia', 'Niger', 'Nigeria',\n",
    "                 'Reunion', 'Rwanda', 'Saint Helena', 'Sao Tome and Principe', 'Senegal',\n",
    "                 'Seychelles', 'Sierra Leone', 'Somalia', 'South Africa', 'South Sudan',\n",
    "                 'Sudan', 'Tanzania', 'The Democratic Republic of Congo', 'Togo', 'Tunisia',\n",
    "                 'Uganda', 'Western Sahara', 'Zambia', 'Zimbabwe']"
   ]
  },
  {
   "cell_type": "code",
   "execution_count": null,
   "id": "c12159c9-ec7d-4a0d-bf75-98362d2c97e9",
   "metadata": {},
   "outputs": [],
   "source": [
    "dj = dj[dj['Entity'].isin(afr_entities)]"
   ]
  }
 ],
 "metadata": {
  "kernelspec": {
   "display_name": "Python 3 (ipykernel)",
   "language": "python",
   "name": "python3"
  },
  "language_info": {
   "codemirror_mode": {
    "name": "ipython",
    "version": 3
   },
   "file_extension": ".py",
   "mimetype": "text/x-python",
   "name": "python",
   "nbconvert_exporter": "python",
   "pygments_lexer": "ipython3",
   "version": "3.13.0"
  }
 },
 "nbformat": 4,
 "nbformat_minor": 5
}
